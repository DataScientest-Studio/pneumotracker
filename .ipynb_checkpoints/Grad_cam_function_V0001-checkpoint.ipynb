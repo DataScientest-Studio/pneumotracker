{
 "cells": [
  {
   "cell_type": "markdown",
   "metadata": {},
   "source": [
    "Fonctions permettant de générer la Heatmap Grad_cam et de l'afficher sur individuellement ou sur l'image d'origine"
   ]
  },
  {
   "cell_type": "code",
   "execution_count": null,
   "metadata": {},
   "outputs": [],
   "source": [
    "import tensorflow as tf\n",
    "import matplotlib.pyplot as plt\n",
    "import matplotlib.cm as cm\n",
    "import numpy as np"
   ]
  },
  {
   "cell_type": "code",
   "execution_count": 1,
   "metadata": {},
   "outputs": [],
   "source": [
    "def make_gradcam_heatmap(img_array, model, last_conv_layer_name, pred_index=None):\n",
    "    \n",
    "    \"\"\"\n",
    "    \n",
    "    Fonction générant la heatmap pour l'image et le modèle passés\n",
    "    Désactiver la dernière couche du modèle avant utilisation de la fonction\n",
    "    \n",
    "    img_array : image au format tensorflow avec shape (1, hauteur, largeur, nombre de canaux)\n",
    "    model : model entraîné utilisé pour les prédictions\n",
    "    last_conv_layer_name : nom de la dernière couche de convolution du modèle (obtenir avec model.summary())\n",
    "    \n",
    "    Renvoie une heatmap pouvant être affichée avec plt.matshow(heatmap);plt.show()\n",
    "    \n",
    "    Ex :\n",
    "    im = tf.io.read_file(os.path.join(dirname, filename))\n",
    "    im = tf.image.decode_jpeg(im, channels=1)\n",
    "    im = tf.image.resize(im, size=(64,64))\n",
    "    im = tf.reshape(im, (1, 64, 64, 1))\n",
    "    \n",
    "    model.layers[-1].activation = None\n",
    "    \n",
    "    heatmap = make_gradcam_heatmap(im_test, model, 'max_pooling2d_1')\n",
    "    \n",
    "    plt.matshow(heatmap)\n",
    "    plt.show()    \n",
    "    \"\"\"\n",
    "    \n",
    "    # First, we create a model that maps the input image to the activations\n",
    "    # of the last conv layer as well as the output predictions\n",
    "    grad_model = tf.keras.models.Model(\n",
    "        [model.inputs], [model.get_layer(last_conv_layer_name).output, model.output]\n",
    "    )\n",
    "\n",
    "    # Then, we compute the gradient of the top predicted class for our input image\n",
    "    # with respect to the activations of the last conv layer\n",
    "    with tf.GradientTape() as tape:\n",
    "        last_conv_layer_output, preds = grad_model(img_array)\n",
    "        if pred_index is None:\n",
    "            pred_index = tf.argmax(preds[0])\n",
    "        class_channel = preds[:, pred_index]\n",
    "\n",
    "    # This is the gradient of the output neuron (top predicted or chosen)\n",
    "    # with regard to the output feature map of the last conv layer\n",
    "    grads = tape.gradient(class_channel, last_conv_layer_output)\n",
    "\n",
    "    # This is a vector where each entry is the mean intensity of the gradient\n",
    "    # over a specific feature map channel\n",
    "    pooled_grads = tf.reduce_mean(grads, axis=(0, 1, 2))\n",
    "\n",
    "    # We multiply each channel in the feature map array\n",
    "    # by \"how important this channel is\" with regard to the top predicted class\n",
    "    # then sum all the channels to obtain the heatmap class activation\n",
    "    last_conv_layer_output = last_conv_layer_output[0]\n",
    "    heatmap = last_conv_layer_output @ pooled_grads[..., tf.newaxis]\n",
    "    heatmap = tf.squeeze(heatmap)\n",
    "\n",
    "    # For visualization purpose, we will also normalize the heatmap between 0 & 1\n",
    "    heatmap = tf.maximum(heatmap, 0) / tf.math.reduce_max(heatmap)\n",
    "    return heatmap.numpy()"
   ]
  },
  {
   "cell_type": "code",
   "execution_count": 2,
   "metadata": {},
   "outputs": [],
   "source": [
    "def display_gradcam(img, heatmap, alpha=0.005):\n",
    "    \n",
    "    \"\"\"\n",
    "    \n",
    "    Fonction affichant la heatmap superposée sur l'image\n",
    "    \n",
    "    img : image au format tensorflow avec shape (hauteur, largeur)\n",
    "    heatmap : heatmap obtenue par la fonction make_gradcam_heatmap\n",
    "    alpha : opacité de la heatmap\n",
    "    \n",
    "    Ex :\n",
    "    im = tf.io.read_file(os.path.join(dirname, filename))\n",
    "    im = tf.image.decode_jpeg(im, channels=1)\n",
    "    im = tf.image.resize(im, size=(64,64))\n",
    "    im = tf.reshape(im, (64, 64))\n",
    "    \n",
    "    plt.figure(figsize = (15, 15))\n",
    "    display_gradcam(im, heatmap, alpha = 0.005)  \n",
    "    \"\"\"\n",
    "    \n",
    "    # Load the original image\n",
    "    img = keras.preprocessing.image.img_to_array(img)\n",
    "\n",
    "    # Rescale heatmap to a range 0-255\n",
    "    heatmap = np.uint8(255 * heatmap)\n",
    "\n",
    "    # Use jet colormap to colorize heatmap\n",
    "    jet = cm.get_cmap(\"jet\")\n",
    "\n",
    "    # Use RGB values of the colormap\n",
    "    jet_colors = jet(np.arange(256))[:, :3]\n",
    "    jet_heatmap = jet_colors[heatmap]\n",
    "\n",
    "    # Create an image with RGB colorized heatmap\n",
    "    jet_heatmap = keras.preprocessing.image.array_to_img(jet_heatmap)\n",
    "    jet_heatmap = jet_heatmap.resize((img.shape[1], img.shape[0]))\n",
    "    jet_heatmap = keras.preprocessing.image.img_to_array(jet_heatmap)\n",
    "\n",
    "    # Superimpose the heatmap on original image\n",
    "    superimposed_img = jet_heatmap * alpha + img\n",
    "    superimposed_img = keras.preprocessing.image.array_to_img(superimposed_img)\n",
    "\n",
    "    # Display Grad CAM\n",
    "    plt.imshow(superimposed_img)"
   ]
  },
  {
   "cell_type": "code",
   "execution_count": 3,
   "metadata": {},
   "outputs": [
    {
     "name": "stdout",
     "output_type": "stream",
     "text": [
      "Help on function display_gradcam in module __main__:\n",
      "\n",
      "display_gradcam(img, heatmap, alpha=0.005)\n",
      "    Fonction affichant la heatmap superposée sur l'image\n",
      "    \n",
      "    img : image au format tensorflow avec shape (hauteur, largeur)\n",
      "    heatmap : heatmap obtenue par la fonction make_gradcam_heatmap\n",
      "    alpha : opacité de la heatmap\n",
      "    \n",
      "    Ex :\n",
      "    im = tf.io.read_file(os.path.join(dirname, filename))\n",
      "    im = tf.image.decode_jpeg(im, channels=1)\n",
      "    im = tf.image.resize(im, size=(64,64))\n",
      "    im = tf.reshape(im, (64, 64))\n",
      "    \n",
      "    plt.figure(figsize = (15, 15))\n",
      "    display_gradcam(im, heatmap, alpha = 0.005)\n",
      "\n"
     ]
    }
   ],
   "source": [
    "help(display_gradcam)"
   ]
  }
 ],
 "metadata": {
  "kernelspec": {
   "display_name": "Python 3",
   "language": "python",
   "name": "python3"
  },
  "language_info": {
   "codemirror_mode": {
    "name": "ipython",
    "version": 3
   },
   "file_extension": ".py",
   "mimetype": "text/x-python",
   "name": "python",
   "nbconvert_exporter": "python",
   "pygments_lexer": "ipython3",
   "version": "3.8.5"
  }
 },
 "nbformat": 4,
 "nbformat_minor": 4
}
