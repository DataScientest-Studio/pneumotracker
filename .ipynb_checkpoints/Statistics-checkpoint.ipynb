{
 "cells": [
  {
   "cell_type": "code",
   "execution_count": 1,
   "id": "voluntary-witness",
   "metadata": {},
   "outputs": [],
   "source": [
    "from Pneumotracker_func import build_df\n",
    "from Pneumotracker_stats_func import build_stats_df, compare_pops, chi_test\n",
    "import math\n",
    "import cv2\n",
    "import pandas as pd\n",
    "import numpy as np\n",
    "import seaborn as sns\n",
    "import matplotlib.pyplot as plt\n",
    "%matplotlib inline\n",
    "\n",
    "orig_path, seg_path = r'.\\chest_xray', r'.\\segmentation'\n",
    "orig_file_ext, seg_file_ext = 'jpeg', 'png'"
   ]
  },
  {
   "cell_type": "code",
   "execution_count": 2,
   "id": "essential-freeze",
   "metadata": {},
   "outputs": [
    {
     "name": "stdout",
     "output_type": "stream",
     "text": [
      "Building dataset DataFrame\n",
      "DataFrame was found, would you like to read it (R) or recreate it (C) (default Read)?\n",
      "\n"
     ]
    },
    {
     "data": {
      "text/html": [
       "<div>\n",
       "<style scoped>\n",
       "    .dataframe tbody tr th:only-of-type {\n",
       "        vertical-align: middle;\n",
       "    }\n",
       "\n",
       "    .dataframe tbody tr th {\n",
       "        vertical-align: top;\n",
       "    }\n",
       "\n",
       "    .dataframe thead th {\n",
       "        text-align: right;\n",
       "    }\n",
       "</style>\n",
       "<table border=\"1\" class=\"dataframe\">\n",
       "  <thead>\n",
       "    <tr style=\"text-align: right;\">\n",
       "      <th></th>\n",
       "      <th>Label_name</th>\n",
       "      <th>Label_int</th>\n",
       "      <th>Label_pathology</th>\n",
       "      <th>Label_pathology_int</th>\n",
       "      <th>Filename_orig</th>\n",
       "      <th>Filepath_orig</th>\n",
       "      <th>Filename_seg</th>\n",
       "      <th>Filepath_seg</th>\n",
       "    </tr>\n",
       "  </thead>\n",
       "  <tbody>\n",
       "    <tr>\n",
       "      <th>0</th>\n",
       "      <td>PNEUMONIA</td>\n",
       "      <td>1</td>\n",
       "      <td>bacteria</td>\n",
       "      <td>1</td>\n",
       "      <td>person1947_bacteria_4876.jpeg</td>\n",
       "      <td>.\\chest_xray\\val\\PNEUMONIA\\person1947_bacteria...</td>\n",
       "      <td>person1947_bacteria_4876.png</td>\n",
       "      <td>.\\segmentation\\val\\PNEUMONIA\\person1947_bacter...</td>\n",
       "    </tr>\n",
       "    <tr>\n",
       "      <th>1</th>\n",
       "      <td>PNEUMONIA</td>\n",
       "      <td>1</td>\n",
       "      <td>bacteria</td>\n",
       "      <td>1</td>\n",
       "      <td>person1946_bacteria_4875.jpeg</td>\n",
       "      <td>.\\chest_xray\\val\\PNEUMONIA\\person1946_bacteria...</td>\n",
       "      <td>person1946_bacteria_4875.png</td>\n",
       "      <td>.\\segmentation\\val\\PNEUMONIA\\person1946_bacter...</td>\n",
       "    </tr>\n",
       "    <tr>\n",
       "      <th>2</th>\n",
       "      <td>PNEUMONIA</td>\n",
       "      <td>1</td>\n",
       "      <td>bacteria</td>\n",
       "      <td>1</td>\n",
       "      <td>person1952_bacteria_4883.jpeg</td>\n",
       "      <td>.\\chest_xray\\val\\PNEUMONIA\\person1952_bacteria...</td>\n",
       "      <td>person1952_bacteria_4883.png</td>\n",
       "      <td>.\\segmentation\\val\\PNEUMONIA\\person1952_bacter...</td>\n",
       "    </tr>\n",
       "    <tr>\n",
       "      <th>3</th>\n",
       "      <td>PNEUMONIA</td>\n",
       "      <td>1</td>\n",
       "      <td>bacteria</td>\n",
       "      <td>1</td>\n",
       "      <td>person1954_bacteria_4886.jpeg</td>\n",
       "      <td>.\\chest_xray\\val\\PNEUMONIA\\person1954_bacteria...</td>\n",
       "      <td>person1954_bacteria_4886.png</td>\n",
       "      <td>.\\segmentation\\val\\PNEUMONIA\\person1954_bacter...</td>\n",
       "    </tr>\n",
       "    <tr>\n",
       "      <th>4</th>\n",
       "      <td>PNEUMONIA</td>\n",
       "      <td>1</td>\n",
       "      <td>bacteria</td>\n",
       "      <td>1</td>\n",
       "      <td>person1951_bacteria_4882.jpeg</td>\n",
       "      <td>.\\chest_xray\\val\\PNEUMONIA\\person1951_bacteria...</td>\n",
       "      <td>person1951_bacteria_4882.png</td>\n",
       "      <td>.\\segmentation\\val\\PNEUMONIA\\person1951_bacter...</td>\n",
       "    </tr>\n",
       "  </tbody>\n",
       "</table>\n",
       "</div>"
      ],
      "text/plain": [
       "  Label_name  Label_int Label_pathology  Label_pathology_int  \\\n",
       "0  PNEUMONIA          1        bacteria                    1   \n",
       "1  PNEUMONIA          1        bacteria                    1   \n",
       "2  PNEUMONIA          1        bacteria                    1   \n",
       "3  PNEUMONIA          1        bacteria                    1   \n",
       "4  PNEUMONIA          1        bacteria                    1   \n",
       "\n",
       "                   Filename_orig  \\\n",
       "0  person1947_bacteria_4876.jpeg   \n",
       "1  person1946_bacteria_4875.jpeg   \n",
       "2  person1952_bacteria_4883.jpeg   \n",
       "3  person1954_bacteria_4886.jpeg   \n",
       "4  person1951_bacteria_4882.jpeg   \n",
       "\n",
       "                                       Filepath_orig  \\\n",
       "0  .\\chest_xray\\val\\PNEUMONIA\\person1947_bacteria...   \n",
       "1  .\\chest_xray\\val\\PNEUMONIA\\person1946_bacteria...   \n",
       "2  .\\chest_xray\\val\\PNEUMONIA\\person1952_bacteria...   \n",
       "3  .\\chest_xray\\val\\PNEUMONIA\\person1954_bacteria...   \n",
       "4  .\\chest_xray\\val\\PNEUMONIA\\person1951_bacteria...   \n",
       "\n",
       "                   Filename_seg  \\\n",
       "0  person1947_bacteria_4876.png   \n",
       "1  person1946_bacteria_4875.png   \n",
       "2  person1952_bacteria_4883.png   \n",
       "3  person1954_bacteria_4886.png   \n",
       "4  person1951_bacteria_4882.png   \n",
       "\n",
       "                                        Filepath_seg  \n",
       "0  .\\segmentation\\val\\PNEUMONIA\\person1947_bacter...  \n",
       "1  .\\segmentation\\val\\PNEUMONIA\\person1946_bacter...  \n",
       "2  .\\segmentation\\val\\PNEUMONIA\\person1952_bacter...  \n",
       "3  .\\segmentation\\val\\PNEUMONIA\\person1954_bacter...  \n",
       "4  .\\segmentation\\val\\PNEUMONIA\\person1951_bacter...  "
      ]
     },
     "execution_count": 2,
     "metadata": {},
     "output_type": "execute_result"
    }
   ],
   "source": [
    "print('Building dataset DataFrame')\n",
    "\n",
    "df = build_df(path_orig = orig_path,\n",
    "              orig_file_ext = orig_file_ext,\n",
    "              path_seg = seg_path,\n",
    "              seg_file_ext = seg_file_ext,\n",
    "              save_path = r'.\\Dfs\\df_all.csv')\n",
    "\n",
    "df.head()"
   ]
  },
  {
   "cell_type": "markdown",
   "id": "lasting-bennett",
   "metadata": {},
   "source": [
    "## I. Building DataFrame for statistics computation"
   ]
  },
  {
   "cell_type": "code",
   "execution_count": 3,
   "id": "intended-constitutional",
   "metadata": {},
   "outputs": [
    {
     "name": "stdout",
     "output_type": "stream",
     "text": [
      "Building dataset DataFrame\n",
      "DataFrame was found, would you like to read it (R) or recreate it (C) (default Read)?\n",
      "\n"
     ]
    },
    {
     "data": {
      "text/html": [
       "<div>\n",
       "<style scoped>\n",
       "    .dataframe tbody tr th:only-of-type {\n",
       "        vertical-align: middle;\n",
       "    }\n",
       "\n",
       "    .dataframe tbody tr th {\n",
       "        vertical-align: top;\n",
       "    }\n",
       "\n",
       "    .dataframe thead th {\n",
       "        text-align: right;\n",
       "    }\n",
       "</style>\n",
       "<table border=\"1\" class=\"dataframe\">\n",
       "  <thead>\n",
       "    <tr style=\"text-align: right;\">\n",
       "      <th></th>\n",
       "      <th>Pathology</th>\n",
       "      <th>Pathogen</th>\n",
       "      <th>Mean</th>\n",
       "      <th>Nb_pixels</th>\n",
       "      <th>Sup_thr_100</th>\n",
       "      <th>Per_thr_100</th>\n",
       "      <th>0</th>\n",
       "      <th>1</th>\n",
       "      <th>2</th>\n",
       "      <th>3</th>\n",
       "      <th>...</th>\n",
       "      <th>246</th>\n",
       "      <th>247</th>\n",
       "      <th>248</th>\n",
       "      <th>249</th>\n",
       "      <th>250</th>\n",
       "      <th>251</th>\n",
       "      <th>252</th>\n",
       "      <th>253</th>\n",
       "      <th>254</th>\n",
       "      <th>255</th>\n",
       "    </tr>\n",
       "  </thead>\n",
       "  <tbody>\n",
       "    <tr>\n",
       "      <th>0</th>\n",
       "      <td>PNEUMONIA</td>\n",
       "      <td>bacteria</td>\n",
       "      <td>136.452473</td>\n",
       "      <td>764928</td>\n",
       "      <td>594148</td>\n",
       "      <td>0.776737</td>\n",
       "      <td>40901</td>\n",
       "      <td>1189</td>\n",
       "      <td>1168</td>\n",
       "      <td>1205</td>\n",
       "      <td>...</td>\n",
       "      <td>16.0</td>\n",
       "      <td>28.0</td>\n",
       "      <td>314.0</td>\n",
       "      <td>0.0</td>\n",
       "      <td>0.0</td>\n",
       "      <td>0.0</td>\n",
       "      <td>0.0</td>\n",
       "      <td>0.0</td>\n",
       "      <td>0.0</td>\n",
       "      <td>0.0</td>\n",
       "    </tr>\n",
       "    <tr>\n",
       "      <th>1</th>\n",
       "      <td>PNEUMONIA</td>\n",
       "      <td>bacteria</td>\n",
       "      <td>98.546891</td>\n",
       "      <td>763264</td>\n",
       "      <td>413281</td>\n",
       "      <td>0.541465</td>\n",
       "      <td>19002</td>\n",
       "      <td>4183</td>\n",
       "      <td>3237</td>\n",
       "      <td>3739</td>\n",
       "      <td>...</td>\n",
       "      <td>622.0</td>\n",
       "      <td>0.0</td>\n",
       "      <td>0.0</td>\n",
       "      <td>0.0</td>\n",
       "      <td>0.0</td>\n",
       "      <td>0.0</td>\n",
       "      <td>0.0</td>\n",
       "      <td>0.0</td>\n",
       "      <td>0.0</td>\n",
       "      <td>0.0</td>\n",
       "    </tr>\n",
       "    <tr>\n",
       "      <th>2</th>\n",
       "      <td>PNEUMONIA</td>\n",
       "      <td>bacteria</td>\n",
       "      <td>143.098723</td>\n",
       "      <td>1134784</td>\n",
       "      <td>921588</td>\n",
       "      <td>0.812126</td>\n",
       "      <td>37653</td>\n",
       "      <td>7169</td>\n",
       "      <td>3962</td>\n",
       "      <td>2190</td>\n",
       "      <td>...</td>\n",
       "      <td>34.0</td>\n",
       "      <td>31.0</td>\n",
       "      <td>61.0</td>\n",
       "      <td>68.0</td>\n",
       "      <td>96.0</td>\n",
       "      <td>121.0</td>\n",
       "      <td>636.0</td>\n",
       "      <td>0.0</td>\n",
       "      <td>0.0</td>\n",
       "      <td>0.0</td>\n",
       "    </tr>\n",
       "    <tr>\n",
       "      <th>3</th>\n",
       "      <td>PNEUMONIA</td>\n",
       "      <td>bacteria</td>\n",
       "      <td>106.440616</td>\n",
       "      <td>1876992</td>\n",
       "      <td>1093371</td>\n",
       "      <td>0.582512</td>\n",
       "      <td>405851</td>\n",
       "      <td>8711</td>\n",
       "      <td>8702</td>\n",
       "      <td>6990</td>\n",
       "      <td>...</td>\n",
       "      <td>40.0</td>\n",
       "      <td>51.0</td>\n",
       "      <td>215.0</td>\n",
       "      <td>55.0</td>\n",
       "      <td>184.0</td>\n",
       "      <td>79.0</td>\n",
       "      <td>1123.0</td>\n",
       "      <td>0.0</td>\n",
       "      <td>0.0</td>\n",
       "      <td>0.0</td>\n",
       "    </tr>\n",
       "    <tr>\n",
       "      <th>4</th>\n",
       "      <td>PNEUMONIA</td>\n",
       "      <td>bacteria</td>\n",
       "      <td>140.819660</td>\n",
       "      <td>666496</td>\n",
       "      <td>530464</td>\n",
       "      <td>0.795900</td>\n",
       "      <td>2936</td>\n",
       "      <td>634</td>\n",
       "      <td>1434</td>\n",
       "      <td>1436</td>\n",
       "      <td>...</td>\n",
       "      <td>20.0</td>\n",
       "      <td>36.0</td>\n",
       "      <td>34.0</td>\n",
       "      <td>38.0</td>\n",
       "      <td>44.0</td>\n",
       "      <td>36.0</td>\n",
       "      <td>74.0</td>\n",
       "      <td>120.0</td>\n",
       "      <td>102.0</td>\n",
       "      <td>613.0</td>\n",
       "    </tr>\n",
       "  </tbody>\n",
       "</table>\n",
       "<p>5 rows × 262 columns</p>\n",
       "</div>"
      ],
      "text/plain": [
       "   Pathology  Pathogen        Mean  Nb_pixels  Sup_thr_100  Per_thr_100  \\\n",
       "0  PNEUMONIA  bacteria  136.452473     764928       594148     0.776737   \n",
       "1  PNEUMONIA  bacteria   98.546891     763264       413281     0.541465   \n",
       "2  PNEUMONIA  bacteria  143.098723    1134784       921588     0.812126   \n",
       "3  PNEUMONIA  bacteria  106.440616    1876992      1093371     0.582512   \n",
       "4  PNEUMONIA  bacteria  140.819660     666496       530464     0.795900   \n",
       "\n",
       "        0     1     2     3  ...    246   247    248   249    250    251  \\\n",
       "0   40901  1189  1168  1205  ...   16.0  28.0  314.0   0.0    0.0    0.0   \n",
       "1   19002  4183  3237  3739  ...  622.0   0.0    0.0   0.0    0.0    0.0   \n",
       "2   37653  7169  3962  2190  ...   34.0  31.0   61.0  68.0   96.0  121.0   \n",
       "3  405851  8711  8702  6990  ...   40.0  51.0  215.0  55.0  184.0   79.0   \n",
       "4    2936   634  1434  1436  ...   20.0  36.0   34.0  38.0   44.0   36.0   \n",
       "\n",
       "      252    253    254    255  \n",
       "0     0.0    0.0    0.0    0.0  \n",
       "1     0.0    0.0    0.0    0.0  \n",
       "2   636.0    0.0    0.0    0.0  \n",
       "3  1123.0    0.0    0.0    0.0  \n",
       "4    74.0  120.0  102.0  613.0  \n",
       "\n",
       "[5 rows x 262 columns]"
      ]
     },
     "execution_count": 3,
     "metadata": {},
     "output_type": "execute_result"
    }
   ],
   "source": [
    "print('Building dataset DataFrame')\n",
    "\n",
    "df_stats = build_stats_df(df = df,\n",
    "                          filepath_col = 'Filepath_orig',\n",
    "                          labelname_col = 'Label_name',\n",
    "                          labelpat_col = 'Label_pathology',\n",
    "                          save_path = r'.\\Dfs\\df_stats.csv')\n",
    "\n",
    "df_stats.head()"
   ]
  },
  {
   "cell_type": "markdown",
   "id": "saving-syracuse",
   "metadata": {},
   "source": [
    "## II. Mean pixel intensity"
   ]
  },
  {
   "cell_type": "code",
   "execution_count": 4,
   "id": "popular-replica",
   "metadata": {},
   "outputs": [
    {
     "data": {
      "text/plain": [
       "''"
      ]
     },
     "execution_count": 4,
     "metadata": {},
     "output_type": "execute_result"
    },
    {
     "data": {
      "image/png": "[encoded data removed]",
      "text/plain": [
       "<Figure size 360x360 with 1 Axes>"
      ]
     },
     "metadata": {
      "needs_background": "light"
     },
     "output_type": "display_data"
    }
   ],
   "source": [
    "plot1 = sns.catplot(x = 'Pathology', y = 'Mean', data = df_stats.loc[:, ['Mean', 'Pathology']], kind = 'violin', showmeans = True, inner = 'box')\n",
    "plot1.set_xticklabels(['Normal', 'Pneumonia'], fontsize=15)\n",
    "plot1.set_xlabels('')\n",
    "plot1.set_ylabels('Mean pixel intensity')\n",
    "plt.title('Mean pixel intensity distribution for normal and pneumonia Xray')\n",
    ";"
   ]
  },
  {
   "cell_type": "code",
   "execution_count": 5,
   "id": "three-jacksonville",
   "metadata": {},
   "outputs": [
    {
     "name": "stdout",
     "output_type": "stream",
     "text": [
      "1. Are populations normally distributed?\n",
      "H0 (normal distribution) rejected (p-value = 0.00421).\n",
      "Dataset \"Normal\" distribution does not appear normal.\n",
      "\n",
      "H0 (normal distribution) rejected (p-value = 0.00004).\n",
      "Dataset \"Pneumonia\" distribution does not appear normal.\n",
      "\n",
      "2. Do populations have similar distributions?\n",
      "H0 (identical population distributions) not rejected (p-value = 0.16009).\n",
      "Normal and Pneumonia populations appear to have similar distributions.\n",
      "\n"
     ]
    }
   ],
   "source": [
    "compare_pops(np.array(df_stats[df_stats['Pathology'] == 'NORMAL']['Mean']),\n",
    "             np.array(df_stats[df_stats['Pathology'] == 'PNEUMONIA']['Mean']),\n",
    "             'Normal',\n",
    "             'Pneumonia')"
   ]
  },
  {
   "cell_type": "code",
   "execution_count": 6,
   "id": "enabling-invalid",
   "metadata": {},
   "outputs": [
    {
     "name": "stdout",
     "output_type": "stream",
     "text": [
      "H0 (variables are independant) rejected (p-value = 0.00000).\n",
      "Pathology and Pixel intensity variables appear to be independant.\n",
      "\n",
      "Cramer's V value is 0.12:\n",
      "There is a weak link between \"Pathology\" and \"Pixel intensity\".\n"
     ]
    }
   ],
   "source": [
    "df_chi = df_stats.loc[:, ['Pathology'] + list(np.arange(0, 256, 1))].groupby('Pathology').sum()\n",
    "chi_test(df_chi, 'Pathology', 'Pixel intensity', df_chi.sum().sum())"
   ]
  },
  {
   "cell_type": "markdown",
   "id": "delayed-possibility",
   "metadata": {},
   "source": [
    "## III. Pixel intensity threshold"
   ]
  },
  {
   "cell_type": "code",
   "execution_count": 7,
   "id": "atmospheric-policy",
   "metadata": {},
   "outputs": [
    {
     "data": {
      "text/plain": [
       "''"
      ]
     },
     "execution_count": 7,
     "metadata": {},
     "output_type": "execute_result"
    },
    {
     "data": {
      "image/png": "[encoded data removed]",
      "text/plain": [
       "<Figure size 360x360 with 1 Axes>"
      ]
     },
     "metadata": {
      "needs_background": "light"
     },
     "output_type": "display_data"
    }
   ],
   "source": [
    "plot1 = sns.catplot(x = 'Pathology', y = 'Per_thr_100', data = df_stats.loc[:, ['Per_thr_100', 'Pathology']], kind = 'violin', showmeans = True, inner = 'box')\n",
    "plot1.set_xticklabels(['Normal', 'Pneumonia'], fontsize=15)\n",
    "plot1.set_xlabels('')\n",
    "plot1.set_ylabels('Mean pixel intensity')\n",
    "plt.title('Percentage of pixels with intensity higher than 100')\n",
    ";"
   ]
  },
  {
   "cell_type": "code",
   "execution_count": 8,
   "id": "forbidden-empty",
   "metadata": {},
   "outputs": [
    {
     "name": "stdout",
     "output_type": "stream",
     "text": [
      "1. Are populations normally distributed?\n",
      "H0 (normal distribution) rejected (p-value = 0.00035).\n",
      "Dataset \"Normal\" distribution does not appear normal.\n",
      "\n",
      "H0 (normal distribution) rejected (p-value = 0.00000).\n",
      "Dataset \"Pneumonia\" distribution does not appear normal.\n",
      "\n",
      "2. Do populations have similar distributions?\n",
      "H0 (identical population distributions) rejected (p-value = 0.00001).\n",
      "Normal and Pneumonia populations appear to have different distributions.\n",
      "\n"
     ]
    }
   ],
   "source": [
    "compare_pops(np.array(df_stats[df_stats['Pathology'] == 'NORMAL']['Per_thr_100']),\n",
    "             np.array(df_stats[df_stats['Pathology'] == 'PNEUMONIA']['Per_thr_100']),\n",
    "             'Normal',\n",
    "             'Pneumonia')"
   ]
  },
  {
   "cell_type": "code",
   "execution_count": 9,
   "id": "sized-light",
   "metadata": {},
   "outputs": [
    {
     "name": "stdout",
     "output_type": "stream",
     "text": [
      "H0 (variables are independant) rejected (p-value = 0.00000).\n",
      "Pathology and Percentage above 100 variables appear to be independant.\n",
      "\n",
      "Cramer's V value is 0.23:\n",
      "There is a moderate link between \"Pathology\" and \"Percentage above 100\".\n"
     ]
    }
   ],
   "source": [
    "df_chi = df_stats.loc[:, ['Pathology', 'Per_thr_100']]\n",
    "df_chi['Per_thr_100'] = df_chi['Per_thr_100'].apply(lambda x: math.trunc(x * 100))\n",
    "df_chi = pd.crosstab(df_chi['Pathology'], df_chi['Per_thr_100'])\n",
    "chi_test(df_chi, 'Pathology', 'Percentage above 100', df_stats.shape[0])"
   ]
  },
  {
   "cell_type": "markdown",
   "id": "confirmed-holocaust",
   "metadata": {},
   "source": [
    "#### There is a weak link between mean pixel intensity of images and the presence/absence of Pneumonia in radiographies."
   ]
  },
  {
   "cell_type": "markdown",
   "id": "worth-services",
   "metadata": {},
   "source": [
    "#### There is a moderate link between the percentage of pixel with intensity higher than 100 and the presence/absence of Pneumonia in radiography"
   ]
  }
 ],
 "metadata": {
  "kernelspec": {
   "display_name": "Python 3",
   "language": "python",
   "name": "python3"
  },
  "language_info": {
   "codemirror_mode": {
    "name": "ipython",
    "version": 3
   },
   "file_extension": ".py",
   "mimetype": "text/x-python",
   "name": "python",
   "nbconvert_exporter": "python",
   "pygments_lexer": "ipython3",
   "version": "3.8.8"
  }
 },
 "nbformat": 4,
 "nbformat_minor": 5
}
