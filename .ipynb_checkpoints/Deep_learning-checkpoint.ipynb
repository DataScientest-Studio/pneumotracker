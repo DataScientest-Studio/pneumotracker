{
 "cells": [
  {
   "cell_type": "code",
   "execution_count": null,
   "id": "magnetic-billion",
   "metadata": {},
   "outputs": [],
   "source": [
    "from Pneumotracker_func import get_and_create_dirs, build_df, build_train_model, model_smpl, model_comp, segment_image, dice_coef_loss, dice_coef\n",
    "# from Segmentation_func import \n",
    "\n",
    "import os\n",
    "import pandas as pd\n",
    "from keras.models import load_model\n",
    "from tqdm import tqdm\n",
    "\n",
    "orig_path, seg_path = r'D:\\MOOCS\\DataScientest\\Projet\\Dataset\\chest_xray\\chest_xray', r'D:\\MOOCS\\DataScientest\\Projet\\UNET\\segmentation'\n",
    "orig_file_ext = 'jpeg'\n",
    "smpl_checkp_name = r'.\\Models\\model_simple_orig_224_rgb.h5'\n",
    "smpl_hist_name = r'.\\Models\\history_simple_orig_224_rgb.csv'\n",
    "seg_model = r'.\\Models\\unet_lung_seg.hdf5'\n",
    "cmpl_orig_checkp_name = r'.\\Models\\model_complex_orig_224_rgb.h5'\n",
    "cmpl_orig_hist_name = r'.\\Models\\history_complex_orig_224_rgb.csv'\n",
    "cmpl_seg_checkp_name = r'.\\Models\\model_complex_seg_224_rgb.h5'\n",
    "cmpl_seg_hist_name = r'.\\Models\\history_complex_seg_224_rgb.csv'"
   ]
  },
  {
   "cell_type": "markdown",
   "id": "spatial-argentina",
   "metadata": {},
   "source": [
    "## Intialize variables"
   ]
  },
  {
   "cell_type": "code",
   "execution_count": null,
   "id": "nonprofit-brooklyn",
   "metadata": {},
   "outputs": [],
   "source": [
    "orig_path, seg_path = get_and_create_dirs()\n",
    "orig_file_ext = input('\\nWhat is the file extension for original images ?\\n').replace('.', '')\n",
    "seg_model = input('\\nWhat is the path to the segmentation model checkpoint ?\\n')"
   ]
  },
  {
   "cell_type": "code",
   "execution_count": null,
   "id": "demonstrated-broadcasting",
   "metadata": {},
   "outputs": [],
   "source": [
    "# D:\\MOOCS\\DataScientest\\Projet\\Dataset\\chest_xray\\chest_xray\n",
    "# D:\\MOOCS\\DataScientest\\Projet\\UNET\\segmentation\n",
    "# unet_lung_seg.hdf5"
   ]
  },
  {
   "cell_type": "markdown",
   "id": "alien-bracket",
   "metadata": {},
   "source": [
    "## Build dataset DataFrame"
   ]
  },
  {
   "cell_type": "code",
   "execution_count": null,
   "id": "tested-landscape",
   "metadata": {},
   "outputs": [],
   "source": [
    "print('Building dataset DataFrame')\n",
    "\n",
    "df = build_df(path_orig = orig_path,\n",
    "              orig_img_ext = 'jpeg',\n",
    "              path_seg = seg_path,\n",
    "              seg_img_ext = 'png')"
   ]
  },
  {
   "cell_type": "markdown",
   "id": "tutorial-angola",
   "metadata": {},
   "source": [
    "#### Necessary to ensure same data split between file systems"
   ]
  },
  {
   "cell_type": "code",
   "execution_count": null,
   "id": "soviet-burns",
   "metadata": {},
   "outputs": [],
   "source": [
    "df = pd.read_csv('df_all.csv', index_col = 0)\n",
    "df['Filepath_orig'] = df['Filepath_orig'].apply(lambda x: x.replace('../input/chest-xray-pneumonia/chest_xray/chest_xray', orig_path).replace(\"/\", \"\\\\\"))\n",
    "df['Filepath_seg'] = df['Filepath_seg'].apply(lambda x: x.replace('../input/segmentation-finale/segmentation', seg_path).replace(\"/\", \"\\\\\"))\n",
    "df.head()"
   ]
  },
  {
   "cell_type": "markdown",
   "id": "ahead-stockholm",
   "metadata": {},
   "source": [
    "## Building and training simple CNN"
   ]
  },
  {
   "cell_type": "code",
   "execution_count": null,
   "id": "wicked-ottawa",
   "metadata": {},
   "outputs": [],
   "source": [
    "model_smpl.summary()"
   ]
  },
  {
   "cell_type": "code",
   "execution_count": null,
   "id": "front-probe",
   "metadata": {},
   "outputs": [],
   "source": [
    "# smpl_checkp_name = r'.\\Models\\model_simple_orig_224_grayscale.h5'\n",
    "# smpl_hist_name = r'.\\Models\\history_simple_orig_224_grayscale.csv'"
   ]
  },
  {
   "cell_type": "code",
   "execution_count": null,
   "id": "pending-cloud",
   "metadata": {},
   "outputs": [],
   "source": [
    "smpl_checkp_name = input('Input path for simple model checkpoint (XXXX.h5).\\n')\n",
    "smpl_hist_name = input('Input path for simple model history (XXXX.csv).\\n')\n",
    "\n",
    "train = False\n",
    "\n",
    "if 'smpl_checkp_name' in locals():\n",
    "    if os.path.exists(smpl_checkp_name):\n",
    "        train = True if input('Simple model checkpoint found. Do you want to retrain model (Y/N)?') == 'Y' else False\n",
    "    else:\n",
    "        train = True\n",
    "else:\n",
    "    train = True    \n",
    "\n",
    "X = df['Filepath_orig']\n",
    "Y = df['Label_name']\n",
    "\n",
    "md_smpl_eval, history_smpl, smpl_model_class_rep, smpl_model_conf_mat, smpl_model = build_train_model(X, Y, model_smpl, 2, 32, 30, smpl_checkp_name, smpl_hist_name, train)"
   ]
  },
  {
   "cell_type": "code",
   "execution_count": null,
   "id": "collect-speed",
   "metadata": {},
   "outputs": [],
   "source": [
    "smpl_model_conf_mat"
   ]
  },
  {
   "cell_type": "code",
   "execution_count": null,
   "id": "contemporary-character",
   "metadata": {},
   "outputs": [],
   "source": [
    "segmentation_model = load_model(seg_model, \n",
    "                                custom_objects={'dice_coef_loss': dice_coef_loss,\n",
    "                                                'dice_coef': dice_coef})"
   ]
  },
  {
   "cell_type": "code",
   "execution_count": null,
   "id": "parental-therapist",
   "metadata": {},
   "outputs": [],
   "source": [
    "segmentation_model.summary()"
   ]
  },
  {
   "cell_type": "code",
   "execution_count": null,
   "id": "outstanding-democracy",
   "metadata": {},
   "outputs": [],
   "source": [
    "for dirname, _, filenames in os.walk(orig_path):\n",
    "    for filename in tqdm(filenames):\n",
    "        if ('.' + orig_file_ext) in filename:\n",
    "            segment_image(segmentation_model, os.path.join(dirname, filename), dirname.replace(orig_path, seg_path))"
   ]
  },
  {
   "cell_type": "code",
   "execution_count": null,
   "id": "honest-deadline",
   "metadata": {},
   "outputs": [],
   "source": [
    "X = df['Filepath_orig']\n",
    "Y = df['Label_name']\n",
    "\n",
    "md_comp_orig_eval, history_comp_orig = build_train_model(X, Y, model_smpl, 2, 32, 30, 'model_comp_orig_224_rgb.h5', 'history_comp_orig_224_rgb')"
   ]
  },
  {
   "cell_type": "code",
   "execution_count": null,
   "id": "horizontal-gibraltar",
   "metadata": {},
   "outputs": [],
   "source": [
    "# Créer les répertoires pour la segmentation\n",
    "# Segmenter les images"
   ]
  },
  {
   "cell_type": "code",
   "execution_count": null,
   "id": "senior-combining",
   "metadata": {},
   "outputs": [],
   "source": [
    "X = df['Filepath_seg']\n",
    "Y = df['Label_name']\n",
    "\n",
    "md_comp_orig_eval, history_comp_orig = build_train_model(X, Y, model_smpl, 2, 32, 30, 'model_comp_orig_224_rgb.h5', 'history_comp_orig_224_rgb')"
   ]
  },
  {
   "cell_type": "code",
   "execution_count": null,
   "id": "processed-shade",
   "metadata": {},
   "outputs": [],
   "source": [
    "# smpl_checkp_name = input('Input path for simple model checkpoint.\\n')\n",
    "# smpl_hist_name = input('Input path for simple model history.\\n')\n",
    "\n",
    "train = False\n",
    "\n",
    "if 'smpl_checkp_name' in locals():\n",
    "    if os.path.exists(smpl_checkp_name):\n",
    "        train = True if input('Simple model checkpoint found. Do you want to retrain model (Y/N)?') == 'Y' else False\n",
    "    else:\n",
    "        train = True\n",
    "else:\n",
    "    train = True    \n",
    "\n",
    "X = df['Filepath_orig']\n",
    "Y = df['Label_name']\n",
    "\n",
    "md_smpl_eval, history_smpl, smpl_model_class_rep, smpl_model_conf_mat, smpl_model = build_train_model(X, Y, model_comp, 2, 32, 30, cmpl_orig_checkp_name, cmpl_orig_hist_name, train)"
   ]
  }
 ],
 "metadata": {
  "kernelspec": {
   "display_name": "Python 3",
   "language": "python",
   "name": "python3"
  },
  "language_info": {
   "codemirror_mode": {
    "name": "ipython",
    "version": 3
   },
   "file_extension": ".py",
   "mimetype": "text/x-python",
   "name": "python",
   "nbconvert_exporter": "python",
   "pygments_lexer": "ipython3",
   "version": "3.8.8"
  }
 },
 "nbformat": 4,
 "nbformat_minor": 5
}
