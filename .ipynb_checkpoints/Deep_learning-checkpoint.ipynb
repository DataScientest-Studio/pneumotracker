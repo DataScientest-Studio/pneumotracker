{
 "cells": [
  {
   "cell_type": "code",
   "execution_count": 1,
   "id": "magnetic-billion",
   "metadata": {},
   "outputs": [],
   "source": [
    "from Pneumotracker_func import get_and_create_dirs, build_df, build_train_model, model_smpl, model_cmpl, segment_image, dice_coef_loss, dice_coef\n",
    "# from Segmentation_func import \n",
    "\n",
    "import os\n",
    "import pandas as pd\n",
    "from keras.models import load_model\n",
    "from tqdm import tqdm\n",
    "import matplotlib.pyplot as plt\n",
    "%matplotlib inline\n",
    "\n",
    "orig_path, seg_path = r'D:\\MOOCS\\DataScientest\\Projet\\Dataset\\chest_xray\\chest_xray', r'D:\\MOOCS\\DataScientest\\Projet\\UNET\\segmentation'\n",
    "orig_file_ext = 'jpeg'\n",
    "smpl_checkp_name = r'.\\Models\\model_simple_orig_224_rgb.h5'\n",
    "smpl_hist_name = r'.\\Models\\history_simple_orig_224_rgb.csv'\n",
    "seg_model = r'.\\Models\\unet_lung_seg.hdf5'\n",
    "cmpl_orig_checkp_name = r'.\\Models\\model_complex_orig_224_rgb.h5'\n",
    "cmpl_orig_hist_name = r'.\\Models\\history_complex_orig_224_rgb.csv'\n",
    "cmpl_seg_checkp_name = r'.\\Models\\model_complex_seg_224_rgb.h5'\n",
    "cmpl_seg_hist_name = r'.\\Models\\history_complex_seg_224_rgb.csv'"
   ]
  },
  {
   "cell_type": "markdown",
   "id": "spatial-argentina",
   "metadata": {},
   "source": [
    "## I. Intialize variables"
   ]
  },
  {
   "cell_type": "code",
   "execution_count": 2,
   "id": "nonprofit-brooklyn",
   "metadata": {},
   "outputs": [
    {
     "name": "stdout",
     "output_type": "stream",
     "text": [
      "Checks for paths for original and segmented images.\n",
      "Original and segmented images folders must be organized in the exact same structure (images in the same folders and sub-folders).\n",
      "\n",
      "Input root path for original images (default github folder):\n",
      "\n",
      "\n",
      "Input root path for segmented images if exists or needs to be created (default github folder):\n",
      "\n",
      "\n",
      "What is the file extension for original images (default jpeg) ?\n",
      "\n",
      "\n",
      "What is the path to the segmentation model checkpoint (default github folder) ?\n",
      "\n"
     ]
    }
   ],
   "source": [
    "orig_path, seg_path, orig_file_ext, seg_model = get_and_create_dirs()"
   ]
  },
  {
   "cell_type": "markdown",
   "id": "alien-bracket",
   "metadata": {},
   "source": [
    "## II. Build dataset DataFrame"
   ]
  },
  {
   "cell_type": "code",
   "execution_count": 3,
   "id": "tested-landscape",
   "metadata": {},
   "outputs": [
    {
     "name": "stderr",
     "output_type": "stream",
     "text": [
      "100%|██████████| 234/234 [00:00<?, ?it/s]\n",
      "100%|██████████| 390/390 [00:00<00:00, 77731.35it/s]\n",
      "100%|██████████| 1341/1341 [00:00<00:00, 140906.42it/s]\n",
      "100%|██████████| 3876/3876 [00:00<00:00, 96792.78it/s]\n",
      "100%|██████████| 9/9 [00:00<?, ?it/s]\n",
      "100%|██████████| 9/9 [00:00<?, ?it/s]"
     ]
    },
    {
     "name": "stdout",
     "output_type": "stream",
     "text": [
      "Building dataset DataFrame\n",
      "Done\n"
     ]
    },
    {
     "name": "stderr",
     "output_type": "stream",
     "text": [
      "\n"
     ]
    }
   ],
   "source": [
    "print('Building dataset DataFrame')\n",
    "\n",
    "df = build_df(path_orig = orig_path,\n",
    "              orig_img_ext = 'jpeg',\n",
    "              path_seg = seg_path,\n",
    "              seg_img_ext = 'png')"
   ]
  },
  {
   "cell_type": "markdown",
   "id": "tutorial-angola",
   "metadata": {},
   "source": [
    "#### Necessary to ensure same data split between file systems"
   ]
  },
  {
   "cell_type": "code",
   "execution_count": 4,
   "id": "soviet-burns",
   "metadata": {},
   "outputs": [
    {
     "data": {
      "text/html": [
       "<div>\n",
       "<style scoped>\n",
       "    .dataframe tbody tr th:only-of-type {\n",
       "        vertical-align: middle;\n",
       "    }\n",
       "\n",
       "    .dataframe tbody tr th {\n",
       "        vertical-align: top;\n",
       "    }\n",
       "\n",
       "    .dataframe thead th {\n",
       "        text-align: right;\n",
       "    }\n",
       "</style>\n",
       "<table border=\"1\" class=\"dataframe\">\n",
       "  <thead>\n",
       "    <tr style=\"text-align: right;\">\n",
       "      <th></th>\n",
       "      <th>Label_name</th>\n",
       "      <th>Label_int</th>\n",
       "      <th>Label_pathology</th>\n",
       "      <th>Label_pathology_int</th>\n",
       "      <th>Filename_orig</th>\n",
       "      <th>Filepath_orig</th>\n",
       "      <th>Filename_seg</th>\n",
       "      <th>Filepath_seg</th>\n",
       "    </tr>\n",
       "  </thead>\n",
       "  <tbody>\n",
       "    <tr>\n",
       "      <th>0</th>\n",
       "      <td>PNEUMONIA</td>\n",
       "      <td>1</td>\n",
       "      <td>bacteria</td>\n",
       "      <td>1</td>\n",
       "      <td>person1947_bacteria_4876.jpeg</td>\n",
       "      <td>.\\chest_xray\\val\\PNEUMONIA\\person1947_bacteria...</td>\n",
       "      <td>person1947_bacteria_4876.png</td>\n",
       "      <td>.\\segmentation\\val\\PNEUMONIA\\person1947_bacter...</td>\n",
       "    </tr>\n",
       "    <tr>\n",
       "      <th>1</th>\n",
       "      <td>PNEUMONIA</td>\n",
       "      <td>1</td>\n",
       "      <td>bacteria</td>\n",
       "      <td>1</td>\n",
       "      <td>person1946_bacteria_4875.jpeg</td>\n",
       "      <td>.\\chest_xray\\val\\PNEUMONIA\\person1946_bacteria...</td>\n",
       "      <td>person1946_bacteria_4875.png</td>\n",
       "      <td>.\\segmentation\\val\\PNEUMONIA\\person1946_bacter...</td>\n",
       "    </tr>\n",
       "    <tr>\n",
       "      <th>2</th>\n",
       "      <td>PNEUMONIA</td>\n",
       "      <td>1</td>\n",
       "      <td>bacteria</td>\n",
       "      <td>1</td>\n",
       "      <td>person1952_bacteria_4883.jpeg</td>\n",
       "      <td>.\\chest_xray\\val\\PNEUMONIA\\person1952_bacteria...</td>\n",
       "      <td>person1952_bacteria_4883.png</td>\n",
       "      <td>.\\segmentation\\val\\PNEUMONIA\\person1952_bacter...</td>\n",
       "    </tr>\n",
       "    <tr>\n",
       "      <th>3</th>\n",
       "      <td>PNEUMONIA</td>\n",
       "      <td>1</td>\n",
       "      <td>bacteria</td>\n",
       "      <td>1</td>\n",
       "      <td>person1954_bacteria_4886.jpeg</td>\n",
       "      <td>.\\chest_xray\\val\\PNEUMONIA\\person1954_bacteria...</td>\n",
       "      <td>person1954_bacteria_4886.png</td>\n",
       "      <td>.\\segmentation\\val\\PNEUMONIA\\person1954_bacter...</td>\n",
       "    </tr>\n",
       "    <tr>\n",
       "      <th>4</th>\n",
       "      <td>PNEUMONIA</td>\n",
       "      <td>1</td>\n",
       "      <td>bacteria</td>\n",
       "      <td>1</td>\n",
       "      <td>person1951_bacteria_4882.jpeg</td>\n",
       "      <td>.\\chest_xray\\val\\PNEUMONIA\\person1951_bacteria...</td>\n",
       "      <td>person1951_bacteria_4882.png</td>\n",
       "      <td>.\\segmentation\\val\\PNEUMONIA\\person1951_bacter...</td>\n",
       "    </tr>\n",
       "  </tbody>\n",
       "</table>\n",
       "</div>"
      ],
      "text/plain": [
       "  Label_name  Label_int Label_pathology  Label_pathology_int  \\\n",
       "0  PNEUMONIA          1        bacteria                    1   \n",
       "1  PNEUMONIA          1        bacteria                    1   \n",
       "2  PNEUMONIA          1        bacteria                    1   \n",
       "3  PNEUMONIA          1        bacteria                    1   \n",
       "4  PNEUMONIA          1        bacteria                    1   \n",
       "\n",
       "                   Filename_orig  \\\n",
       "0  person1947_bacteria_4876.jpeg   \n",
       "1  person1946_bacteria_4875.jpeg   \n",
       "2  person1952_bacteria_4883.jpeg   \n",
       "3  person1954_bacteria_4886.jpeg   \n",
       "4  person1951_bacteria_4882.jpeg   \n",
       "\n",
       "                                       Filepath_orig  \\\n",
       "0  .\\chest_xray\\val\\PNEUMONIA\\person1947_bacteria...   \n",
       "1  .\\chest_xray\\val\\PNEUMONIA\\person1946_bacteria...   \n",
       "2  .\\chest_xray\\val\\PNEUMONIA\\person1952_bacteria...   \n",
       "3  .\\chest_xray\\val\\PNEUMONIA\\person1954_bacteria...   \n",
       "4  .\\chest_xray\\val\\PNEUMONIA\\person1951_bacteria...   \n",
       "\n",
       "                   Filename_seg  \\\n",
       "0  person1947_bacteria_4876.png   \n",
       "1  person1946_bacteria_4875.png   \n",
       "2  person1952_bacteria_4883.png   \n",
       "3  person1954_bacteria_4886.png   \n",
       "4  person1951_bacteria_4882.png   \n",
       "\n",
       "                                        Filepath_seg  \n",
       "0  .\\segmentation\\val\\PNEUMONIA\\person1947_bacter...  \n",
       "1  .\\segmentation\\val\\PNEUMONIA\\person1946_bacter...  \n",
       "2  .\\segmentation\\val\\PNEUMONIA\\person1952_bacter...  \n",
       "3  .\\segmentation\\val\\PNEUMONIA\\person1954_bacter...  \n",
       "4  .\\segmentation\\val\\PNEUMONIA\\person1951_bacter...  "
      ]
     },
     "execution_count": 4,
     "metadata": {},
     "output_type": "execute_result"
    }
   ],
   "source": [
    "df = pd.read_csv('df_all.csv', index_col = 0)\n",
    "df['Filepath_orig'] = df['Filepath_orig'].apply(lambda x: x.replace('../input/chest-xray-pneumonia/chest_xray/chest_xray', orig_path).replace(\"/\", \"\\\\\"))\n",
    "df['Filepath_seg'] = df['Filepath_seg'].apply(lambda x: x.replace('../input/segmentation-finale/segmentation', seg_path).replace(\"/\", \"\\\\\"))\n",
    "df.head()"
   ]
  },
  {
   "cell_type": "markdown",
   "id": "ahead-stockholm",
   "metadata": {},
   "source": [
    "## III. Building and training simple CNN"
   ]
  },
  {
   "cell_type": "code",
   "execution_count": 5,
   "id": "pending-cloud",
   "metadata": {},
   "outputs": [
    {
     "name": "stdout",
     "output_type": "stream",
     "text": [
      "Input path for simple model checkpoint (XXXX.h5) (default github checkpoint path).\n",
      "\n",
      "Input path for simple model history (XXXX.csv) (default github history path).\n",
      "\n",
      "Simple model checkpoint found. Do you want to retrain model (Y/N, default N)?\n",
      "\n",
      "Splitting data\n",
      "\n",
      "Building Data Generators\n",
      "Found 4099 validated image filenames belonging to 2 classes.\n",
      "Found 878 validated image filenames belonging to 2 classes.\n",
      "Found 879 validated image filenames belonging to 2 classes.\n",
      "\n",
      "Evaluating model\n",
      "28/28 [==============================] - 15s 547ms/step - loss: 0.1406 - accuracy: 0.9522\n",
      "Loss:  0.14058370888233185\n",
      "Accuracy:  95.22184133529663 %\n"
     ]
    }
   ],
   "source": [
    "smpl_checkp_name = input('Input path for simple model checkpoint (XXXX.h5) (default github checkpoint path).\\n') or r'.\\Models\\model_simple_orig_224_rgb.h5'\n",
    "smpl_hist_name = input('Input path for simple model history (XXXX.csv) (default github history path).\\n') or r'.\\Models\\history_simple_orig_224_rgb.csv'\n",
    "\n",
    "train = False\n",
    "\n",
    "if 'smpl_checkp_name' in locals():\n",
    "    if os.path.exists(smpl_checkp_name):\n",
    "        train = True if (input('Simple model checkpoint found. Do you want to retrain model (Y/N, default N)?') or 'N') == 'Y' else False\n",
    "    else:\n",
    "        train = True\n",
    "else:\n",
    "    train = True    \n",
    "\n",
    "X = df['Filepath_orig']\n",
    "Y = df['Label_name']\n",
    "\n",
    "md_smpl_eval, history_smpl, smpl_model_class_rep, smpl_model_conf_mat, smpl_model = build_train_model(X, Y, model_smpl, 2, 32, 30, smpl_checkp_name, smpl_hist_name, train)"
   ]
  },
  {
   "cell_type": "markdown",
   "id": "explicit-automation",
   "metadata": {},
   "source": [
    "#### III.1.Training history"
   ]
  },
  {
   "cell_type": "code",
   "execution_count": 6,
   "id": "collect-speed",
   "metadata": {},
   "outputs": [
    {
     "data": {
      "text/plain": [
       "''"
      ]
     },
     "execution_count": 6,
     "metadata": {},
     "output_type": "execute_result"
    },
    {
     "data": {
      "image/png": "[encoded data removed]",
      "text/plain": [
       "<Figure size 432x288 with 1 Axes>"
      ]
     },
     "metadata": {
      "needs_background": "light"
     },
     "output_type": "display_data"
    }
   ],
   "source": [
    "plt.plot(history_smpl.index + 1, history_smpl['accuracy'], color = 'royalblue', linestyle = '--', label = 'Train accuracy')\n",
    "plt.plot(history_smpl.index + 1, history_smpl['val_accuracy'], color = 'red', linestyle = '--', label = 'Val accuracy')\n",
    "plt.ylim([0, 1.0])\n",
    "plt.xticks([5, 10, 15, 20])\n",
    "plt.legend(loc = 'best')\n",
    "plt.title('Training vs val accuracy for simple model', pad = 20)\n",
    ";"
   ]
  },
  {
   "cell_type": "markdown",
   "id": "distributed-philip",
   "metadata": {},
   "source": [
    "#### III.2. Classification report"
   ]
  },
  {
   "cell_type": "code",
   "execution_count": 7,
   "id": "pregnant-honor",
   "metadata": {},
   "outputs": [
    {
     "data": {
      "text/html": [
       "<style  type=\"text/css\" >\n",
       "</style><table id=\"T_0fd10_\" style='display:inline; font-size:110%; color:black; font-weight: bold'><caption>Classification report for model .\\Models\\model_simple_orig_224_rgb</caption><thead>    <tr>        <th class=\"blank level0\" ></th>        <th class=\"col_heading level0 col0\" >NORMAL</th>        <th class=\"col_heading level0 col1\" >PNEUMONIA</th>        <th class=\"col_heading level0 col2\" >accuracy</th>        <th class=\"col_heading level0 col3\" >macro avg</th>        <th class=\"col_heading level0 col4\" >weighted avg</th>    </tr></thead><tbody>\n",
       "                <tr>\n",
       "                        <th id=\"T_0fd10_level0_row0\" class=\"row_heading level0 row0\" >precision</th>\n",
       "                        <td id=\"T_0fd10_row0_col0\" class=\"data row0 col0\" >0.918803</td>\n",
       "                        <td id=\"T_0fd10_row0_col1\" class=\"data row0 col1\" >0.964341</td>\n",
       "                        <td id=\"T_0fd10_row0_col2\" class=\"data row0 col2\" >0.952218</td>\n",
       "                        <td id=\"T_0fd10_row0_col3\" class=\"data row0 col3\" >0.941572</td>\n",
       "                        <td id=\"T_0fd10_row0_col4\" class=\"data row0 col4\" >0.952011</td>\n",
       "            </tr>\n",
       "            <tr>\n",
       "                        <th id=\"T_0fd10_level0_row1\" class=\"row_heading level0 row1\" >recall</th>\n",
       "                        <td id=\"T_0fd10_row1_col0\" class=\"data row1 col0\" >0.903361</td>\n",
       "                        <td id=\"T_0fd10_row1_col1\" class=\"data row1 col1\" >0.970359</td>\n",
       "                        <td id=\"T_0fd10_row1_col2\" class=\"data row1 col2\" >0.952218</td>\n",
       "                        <td id=\"T_0fd10_row1_col3\" class=\"data row1 col3\" >0.936860</td>\n",
       "                        <td id=\"T_0fd10_row1_col4\" class=\"data row1 col4\" >0.952218</td>\n",
       "            </tr>\n",
       "            <tr>\n",
       "                        <th id=\"T_0fd10_level0_row2\" class=\"row_heading level0 row2\" >f1-score</th>\n",
       "                        <td id=\"T_0fd10_row2_col0\" class=\"data row2 col0\" >0.911017</td>\n",
       "                        <td id=\"T_0fd10_row2_col1\" class=\"data row2 col1\" >0.967341</td>\n",
       "                        <td id=\"T_0fd10_row2_col2\" class=\"data row2 col2\" >0.952218</td>\n",
       "                        <td id=\"T_0fd10_row2_col3\" class=\"data row2 col3\" >0.939179</td>\n",
       "                        <td id=\"T_0fd10_row2_col4\" class=\"data row2 col4\" >0.952090</td>\n",
       "            </tr>\n",
       "            <tr>\n",
       "                        <th id=\"T_0fd10_level0_row3\" class=\"row_heading level0 row3\" >support</th>\n",
       "                        <td id=\"T_0fd10_row3_col0\" class=\"data row3 col0\" >238.000000</td>\n",
       "                        <td id=\"T_0fd10_row3_col1\" class=\"data row3 col1\" >641.000000</td>\n",
       "                        <td id=\"T_0fd10_row3_col2\" class=\"data row3 col2\" >0.952218</td>\n",
       "                        <td id=\"T_0fd10_row3_col3\" class=\"data row3 col3\" >879.000000</td>\n",
       "                        <td id=\"T_0fd10_row3_col4\" class=\"data row3 col4\" >879.000000</td>\n",
       "            </tr>\n",
       "    </tbody></table>"
      ],
      "text/plain": [
       "<pandas.io.formats.style.Styler at 0x1c015770880>"
      ]
     },
     "execution_count": 7,
     "metadata": {},
     "output_type": "execute_result"
    }
   ],
   "source": [
    "smpl_model_class_rep"
   ]
  },
  {
   "cell_type": "markdown",
   "id": "metropolitan-liver",
   "metadata": {},
   "source": [
    "#### III.3. Confusion matrix"
   ]
  },
  {
   "cell_type": "code",
   "execution_count": 8,
   "id": "quality-victoria",
   "metadata": {},
   "outputs": [
    {
     "data": {
      "text/html": [
       "<style  type=\"text/css\" >\n",
       "</style><table id=\"T_0d8bb_\" style='display:inline; font-size:110%; color:black; font-weight: bold'><caption>Confusion matrix for model.\\Models\\model_simple_orig_224_rgb</caption><thead>    <tr>        <th class=\"index_name level0\" >Predicted</th>        <th class=\"col_heading level0 col0\" >NORMAL</th>        <th class=\"col_heading level0 col1\" >PNEUMONIA</th>    </tr>    <tr>        <th class=\"index_name level0\" >Real</th>        <th class=\"blank\" ></th>        <th class=\"blank\" ></th>    </tr></thead><tbody>\n",
       "                <tr>\n",
       "                        <th id=\"T_0d8bb_level0_row0\" class=\"row_heading level0 row0\" >NORMAL</th>\n",
       "                        <td id=\"T_0d8bb_row0_col0\" class=\"data row0 col0\" >215</td>\n",
       "                        <td id=\"T_0d8bb_row0_col1\" class=\"data row0 col1\" >23</td>\n",
       "            </tr>\n",
       "            <tr>\n",
       "                        <th id=\"T_0d8bb_level0_row1\" class=\"row_heading level0 row1\" >PNEUMONIA</th>\n",
       "                        <td id=\"T_0d8bb_row1_col0\" class=\"data row1 col0\" >19</td>\n",
       "                        <td id=\"T_0d8bb_row1_col1\" class=\"data row1 col1\" >622</td>\n",
       "            </tr>\n",
       "    </tbody></table>"
      ],
      "text/plain": [
       "<pandas.io.formats.style.Styler at 0x1c015770fd0>"
      ]
     },
     "execution_count": 8,
     "metadata": {},
     "output_type": "execute_result"
    }
   ],
   "source": [
    "smpl_model_conf_mat"
   ]
  },
  {
   "cell_type": "markdown",
   "id": "canadian-emerald",
   "metadata": {},
   "source": [
    "## IV. Building and training complex CNN with original images"
   ]
  },
  {
   "cell_type": "code",
   "execution_count": 9,
   "id": "going-stock",
   "metadata": {},
   "outputs": [
    {
     "name": "stdout",
     "output_type": "stream",
     "text": [
      "Input path for complex model with original images checkpoint (XXXX.h5) (default github checkpoint path).\n",
      "\n",
      "Input path for complex model with original images history (XXXX.csv) (default github history path).\n",
      "\n",
      "Complex model with original images checkpoint found. Do you want to retrain model (Y/N)?\n",
      "\n",
      "Splitting data\n",
      "\n",
      "Building Data Generators\n",
      "Found 4099 validated image filenames belonging to 2 classes.\n",
      "Found 878 validated image filenames belonging to 2 classes.\n",
      "Found 879 validated image filenames belonging to 2 classes.\n",
      "\n",
      "Evaluating model\n",
      "28/28 [==============================] - 20s 702ms/step - loss: 0.1395 - accuracy: 0.9716\n",
      "Loss:  0.13948802649974823\n",
      "Accuracy:  97.15585708618164 %\n"
     ]
    }
   ],
   "source": [
    "cmpl_orig_checkp_name = input('Input path for complex model with original images checkpoint (XXXX.h5) (default github checkpoint path).\\n') or r'.\\Models\\model_complex_orig_224_rgb.h5'\n",
    "cmpl_orig_hist_name = input('Input path for complex model with original images history (XXXX.csv) (default github history path).\\n') or r'.\\Models\\history_complex_orig_224_rgb.csv'\n",
    "\n",
    "train = False\n",
    "\n",
    "if 'cmpl_orig_checkp_name' in locals():\n",
    "    if os.path.exists(cmpl_orig_checkp_name):\n",
    "        train = True if (input('Complex model with original images checkpoint found. Do you want to retrain model (Y/N, default N)?') or 'N') == 'Y' else False\n",
    "    else:\n",
    "        train = True\n",
    "else:\n",
    "    train = True    \n",
    "\n",
    "X = df['Filepath_orig']\n",
    "Y = df['Label_name']\n",
    "\n",
    "md_cmpl_orig_eval, history_cmpl_orig, cmpl_orig_model_class_rep, cmpl_orig_model_conf_mat, cmpl_orig_model = build_train_model(X, Y, model_cmpl, 2, 32, 30, cmpl_orig_checkp_name, cmpl_orig_hist_name, train)"
   ]
  },
  {
   "cell_type": "markdown",
   "id": "sacred-application",
   "metadata": {},
   "source": [
    "#### IV.1. Training history"
   ]
  },
  {
   "cell_type": "code",
   "execution_count": 10,
   "id": "dressed-balloon",
   "metadata": {},
   "outputs": [
    {
     "data": {
      "text/plain": [
       "''"
      ]
     },
     "execution_count": 10,
     "metadata": {},
     "output_type": "execute_result"
    },
    {
     "data": {
      "image/png": "[encoded data removed]",
      "text/plain": [
       "<Figure size 432x288 with 1 Axes>"
      ]
     },
     "metadata": {
      "needs_background": "light"
     },
     "output_type": "display_data"
    }
   ],
   "source": [
    "plt.plot(history_cmpl_orig.index, history_cmpl_orig['accuracy'], color = 'royalblue', linestyle = '--', label = 'Train accuracy')\n",
    "plt.plot(history_cmpl_orig.index, history_cmpl_orig['val_accuracy'], color = 'red', linestyle = '--', label = 'Val accuracy')\n",
    "plt.ylim([0, 1.0])\n",
    "plt.xticks([5, 10, 15, 20])\n",
    "plt.legend(loc = 'best')\n",
    "plt.title('Training vs val accuracy for complex model with original images', pad = 20)\n",
    ";"
   ]
  },
  {
   "cell_type": "markdown",
   "id": "pending-january",
   "metadata": {},
   "source": [
    "#### IV.2. Classification report"
   ]
  },
  {
   "cell_type": "code",
   "execution_count": 11,
   "id": "textile-commissioner",
   "metadata": {},
   "outputs": [
    {
     "data": {
      "text/html": [
       "<style  type=\"text/css\" >\n",
       "</style><table id=\"T_6ab47_\" style='display:inline; font-size:110%; color:black; font-weight: bold'><caption>Classification report for model .\\Models\\model_complex_orig_224_rgb</caption><thead>    <tr>        <th class=\"blank level0\" ></th>        <th class=\"col_heading level0 col0\" >NORMAL</th>        <th class=\"col_heading level0 col1\" >PNEUMONIA</th>        <th class=\"col_heading level0 col2\" >accuracy</th>        <th class=\"col_heading level0 col3\" >macro avg</th>        <th class=\"col_heading level0 col4\" >weighted avg</th>    </tr></thead><tbody>\n",
       "                <tr>\n",
       "                        <th id=\"T_6ab47_level0_row0\" class=\"row_heading level0 row0\" >precision</th>\n",
       "                        <td id=\"T_6ab47_row0_col0\" class=\"data row0 col0\" >0.941909</td>\n",
       "                        <td id=\"T_6ab47_row0_col1\" class=\"data row0 col1\" >0.982759</td>\n",
       "                        <td id=\"T_6ab47_row0_col2\" class=\"data row0 col2\" >0.971559</td>\n",
       "                        <td id=\"T_6ab47_row0_col3\" class=\"data row0 col3\" >0.962334</td>\n",
       "                        <td id=\"T_6ab47_row0_col4\" class=\"data row0 col4\" >0.971698</td>\n",
       "            </tr>\n",
       "            <tr>\n",
       "                        <th id=\"T_6ab47_level0_row1\" class=\"row_heading level0 row1\" >recall</th>\n",
       "                        <td id=\"T_6ab47_row1_col0\" class=\"data row1 col0\" >0.953782</td>\n",
       "                        <td id=\"T_6ab47_row1_col1\" class=\"data row1 col1\" >0.978159</td>\n",
       "                        <td id=\"T_6ab47_row1_col2\" class=\"data row1 col2\" >0.971559</td>\n",
       "                        <td id=\"T_6ab47_row1_col3\" class=\"data row1 col3\" >0.965970</td>\n",
       "                        <td id=\"T_6ab47_row1_col4\" class=\"data row1 col4\" >0.971559</td>\n",
       "            </tr>\n",
       "            <tr>\n",
       "                        <th id=\"T_6ab47_level0_row2\" class=\"row_heading level0 row2\" >f1-score</th>\n",
       "                        <td id=\"T_6ab47_row2_col0\" class=\"data row2 col0\" >0.947808</td>\n",
       "                        <td id=\"T_6ab47_row2_col1\" class=\"data row2 col1\" >0.980453</td>\n",
       "                        <td id=\"T_6ab47_row2_col2\" class=\"data row2 col2\" >0.971559</td>\n",
       "                        <td id=\"T_6ab47_row2_col3\" class=\"data row2 col3\" >0.964131</td>\n",
       "                        <td id=\"T_6ab47_row2_col4\" class=\"data row2 col4\" >0.971614</td>\n",
       "            </tr>\n",
       "            <tr>\n",
       "                        <th id=\"T_6ab47_level0_row3\" class=\"row_heading level0 row3\" >support</th>\n",
       "                        <td id=\"T_6ab47_row3_col0\" class=\"data row3 col0\" >238.000000</td>\n",
       "                        <td id=\"T_6ab47_row3_col1\" class=\"data row3 col1\" >641.000000</td>\n",
       "                        <td id=\"T_6ab47_row3_col2\" class=\"data row3 col2\" >0.971559</td>\n",
       "                        <td id=\"T_6ab47_row3_col3\" class=\"data row3 col3\" >879.000000</td>\n",
       "                        <td id=\"T_6ab47_row3_col4\" class=\"data row3 col4\" >879.000000</td>\n",
       "            </tr>\n",
       "    </tbody></table>"
      ],
      "text/plain": [
       "<pandas.io.formats.style.Styler at 0x1c019c0cbe0>"
      ]
     },
     "execution_count": 11,
     "metadata": {},
     "output_type": "execute_result"
    }
   ],
   "source": [
    "cmpl_orig_model_class_rep"
   ]
  },
  {
   "cell_type": "markdown",
   "id": "level-front",
   "metadata": {},
   "source": [
    "#### IV.3. Confusion matrix"
   ]
  },
  {
   "cell_type": "code",
   "execution_count": 12,
   "id": "chicken-refund",
   "metadata": {
    "scrolled": true
   },
   "outputs": [
    {
     "data": {
      "text/html": [
       "<style  type=\"text/css\" >\n",
       "</style><table id=\"T_b9f01_\" style='display:inline; font-size:110%; color:black; font-weight: bold'><caption>Confusion matrix for model.\\Models\\model_complex_orig_224_rgb</caption><thead>    <tr>        <th class=\"index_name level0\" >Predicted</th>        <th class=\"col_heading level0 col0\" >NORMAL</th>        <th class=\"col_heading level0 col1\" >PNEUMONIA</th>    </tr>    <tr>        <th class=\"index_name level0\" >Real</th>        <th class=\"blank\" ></th>        <th class=\"blank\" ></th>    </tr></thead><tbody>\n",
       "                <tr>\n",
       "                        <th id=\"T_b9f01_level0_row0\" class=\"row_heading level0 row0\" >NORMAL</th>\n",
       "                        <td id=\"T_b9f01_row0_col0\" class=\"data row0 col0\" >227</td>\n",
       "                        <td id=\"T_b9f01_row0_col1\" class=\"data row0 col1\" >11</td>\n",
       "            </tr>\n",
       "            <tr>\n",
       "                        <th id=\"T_b9f01_level0_row1\" class=\"row_heading level0 row1\" >PNEUMONIA</th>\n",
       "                        <td id=\"T_b9f01_row1_col0\" class=\"data row1 col0\" >14</td>\n",
       "                        <td id=\"T_b9f01_row1_col1\" class=\"data row1 col1\" >627</td>\n",
       "            </tr>\n",
       "    </tbody></table>"
      ],
      "text/plain": [
       "<pandas.io.formats.style.Styler at 0x1c0176ff700>"
      ]
     },
     "execution_count": 12,
     "metadata": {},
     "output_type": "execute_result"
    }
   ],
   "source": [
    "cmpl_orig_model_conf_mat"
   ]
  },
  {
   "cell_type": "markdown",
   "id": "dying-covering",
   "metadata": {},
   "source": [
    "## V. Segmenting images using UNET model"
   ]
  },
  {
   "cell_type": "code",
   "execution_count": 13,
   "id": "contemporary-character",
   "metadata": {},
   "outputs": [
    {
     "name": "stdout",
     "output_type": "stream",
     "text": [
      "Model: \"model_1\"\n",
      "__________________________________________________________________________________________________\n",
      "Layer (type)                    Output Shape         Param #     Connected to                     \n",
      "==================================================================================================\n",
      "input_1 (InputLayer)            [(None, 512, 512, 1) 0                                            \n",
      "__________________________________________________________________________________________________\n",
      "conv2d_1 (Conv2D)               (None, 512, 512, 32) 320         input_1[0][0]                    \n",
      "__________________________________________________________________________________________________\n",
      "conv2d_2 (Conv2D)               (None, 512, 512, 32) 9248        conv2d_1[0][0]                   \n",
      "__________________________________________________________________________________________________\n",
      "max_pooling2d_1 (MaxPooling2D)  (None, 256, 256, 32) 0           conv2d_2[0][0]                   \n",
      "__________________________________________________________________________________________________\n",
      "conv2d_3 (Conv2D)               (None, 256, 256, 64) 18496       max_pooling2d_1[0][0]            \n",
      "__________________________________________________________________________________________________\n",
      "conv2d_4 (Conv2D)               (None, 256, 256, 64) 36928       conv2d_3[0][0]                   \n",
      "__________________________________________________________________________________________________\n",
      "max_pooling2d_2 (MaxPooling2D)  (None, 128, 128, 64) 0           conv2d_4[0][0]                   \n",
      "__________________________________________________________________________________________________\n",
      "conv2d_5 (Conv2D)               (None, 128, 128, 128 73856       max_pooling2d_2[0][0]            \n",
      "__________________________________________________________________________________________________\n",
      "conv2d_6 (Conv2D)               (None, 128, 128, 128 147584      conv2d_5[0][0]                   \n",
      "__________________________________________________________________________________________________\n",
      "max_pooling2d_3 (MaxPooling2D)  (None, 64, 64, 128)  0           conv2d_6[0][0]                   \n",
      "__________________________________________________________________________________________________\n",
      "conv2d_7 (Conv2D)               (None, 64, 64, 256)  295168      max_pooling2d_3[0][0]            \n",
      "__________________________________________________________________________________________________\n",
      "conv2d_8 (Conv2D)               (None, 64, 64, 256)  590080      conv2d_7[0][0]                   \n",
      "__________________________________________________________________________________________________\n",
      "max_pooling2d_4 (MaxPooling2D)  (None, 32, 32, 256)  0           conv2d_8[0][0]                   \n",
      "__________________________________________________________________________________________________\n",
      "conv2d_9 (Conv2D)               (None, 32, 32, 512)  1180160     max_pooling2d_4[0][0]            \n",
      "__________________________________________________________________________________________________\n",
      "conv2d_10 (Conv2D)              (None, 32, 32, 512)  2359808     conv2d_9[0][0]                   \n",
      "__________________________________________________________________________________________________\n",
      "conv2d_transpose_1 (Conv2DTrans (None, 64, 64, 256)  524544      conv2d_10[0][0]                  \n",
      "__________________________________________________________________________________________________\n",
      "concatenate_1 (Concatenate)     (None, 64, 64, 512)  0           conv2d_transpose_1[0][0]         \n",
      "                                                                 conv2d_8[0][0]                   \n",
      "__________________________________________________________________________________________________\n",
      "conv2d_11 (Conv2D)              (None, 64, 64, 256)  1179904     concatenate_1[0][0]              \n",
      "__________________________________________________________________________________________________\n",
      "conv2d_12 (Conv2D)              (None, 64, 64, 256)  590080      conv2d_11[0][0]                  \n",
      "__________________________________________________________________________________________________\n",
      "conv2d_transpose_2 (Conv2DTrans (None, 128, 128, 128 131200      conv2d_12[0][0]                  \n",
      "__________________________________________________________________________________________________\n",
      "concatenate_2 (Concatenate)     (None, 128, 128, 256 0           conv2d_transpose_2[0][0]         \n",
      "                                                                 conv2d_6[0][0]                   \n",
      "__________________________________________________________________________________________________\n",
      "conv2d_13 (Conv2D)              (None, 128, 128, 128 295040      concatenate_2[0][0]              \n",
      "__________________________________________________________________________________________________\n",
      "conv2d_14 (Conv2D)              (None, 128, 128, 128 147584      conv2d_13[0][0]                  \n",
      "__________________________________________________________________________________________________\n",
      "conv2d_transpose_3 (Conv2DTrans (None, 256, 256, 64) 32832       conv2d_14[0][0]                  \n",
      "__________________________________________________________________________________________________\n",
      "concatenate_3 (Concatenate)     (None, 256, 256, 128 0           conv2d_transpose_3[0][0]         \n",
      "                                                                 conv2d_4[0][0]                   \n",
      "__________________________________________________________________________________________________\n",
      "conv2d_15 (Conv2D)              (None, 256, 256, 64) 73792       concatenate_3[0][0]              \n",
      "__________________________________________________________________________________________________\n",
      "conv2d_16 (Conv2D)              (None, 256, 256, 64) 36928       conv2d_15[0][0]                  \n",
      "__________________________________________________________________________________________________\n",
      "conv2d_transpose_4 (Conv2DTrans (None, 512, 512, 32) 8224        conv2d_16[0][0]                  \n",
      "__________________________________________________________________________________________________\n",
      "concatenate_4 (Concatenate)     (None, 512, 512, 64) 0           conv2d_transpose_4[0][0]         \n",
      "                                                                 conv2d_2[0][0]                   \n",
      "__________________________________________________________________________________________________\n",
      "conv2d_17 (Conv2D)              (None, 512, 512, 32) 18464       concatenate_4[0][0]              \n",
      "__________________________________________________________________________________________________\n",
      "conv2d_18 (Conv2D)              (None, 512, 512, 32) 9248        conv2d_17[0][0]                  \n",
      "__________________________________________________________________________________________________\n",
      "conv2d_19 (Conv2D)              (None, 512, 512, 1)  33          conv2d_18[0][0]                  \n",
      "==================================================================================================\n",
      "Total params: 7,759,521\n",
      "Trainable params: 7,759,521\n",
      "Non-trainable params: 0\n",
      "__________________________________________________________________________________________________\n"
     ]
    }
   ],
   "source": [
    "segmentation_model = load_model(seg_model, \n",
    "                                custom_objects={'dice_coef_loss': dice_coef_loss,\n",
    "                                                'dice_coef': dice_coef})\n",
    "\n",
    "segmentation_model.summary()"
   ]
  },
  {
   "cell_type": "code",
   "execution_count": 14,
   "id": "outstanding-democracy",
   "metadata": {},
   "outputs": [
    {
     "name": "stdout",
     "output_type": "stream",
     "text": [
      "Do you want to segment images with UNET model (Y/N, default N)?\n",
      "\n"
     ]
    }
   ],
   "source": [
    "if (input('Do you want to segment images with UNET model (Y/N, default N)?\\n') or 'N') == 'Y':\n",
    "    print('Segmenting images and saving to', seg_path, '...')\n",
    "    for dirname, _, filenames in os.walk(orig_path):\n",
    "        for filename in tqdm(filenames):\n",
    "            if ('.' + orig_file_ext) in filename:\n",
    "                segment_image(segmentation_model, os.path.join(dirname, filename), dirname.replace(orig_path, seg_path))"
   ]
  },
  {
   "cell_type": "markdown",
   "id": "drawn-simple",
   "metadata": {},
   "source": [
    "## VI. Building and training complex CNN with segmented images"
   ]
  },
  {
   "cell_type": "code",
   "execution_count": 15,
   "id": "guided-lover",
   "metadata": {},
   "outputs": [
    {
     "name": "stdout",
     "output_type": "stream",
     "text": [
      "Input path for complex model with segmented images checkpoint (XXXX.h5) (default github checkpoint path).\n",
      "\n",
      "Input path for complex model with segmented history (XXXX.csv) (default github history path).\n",
      "\n",
      "Complex model with segmented checkpoint found. Do you want to retrain model (Y/N, default N)?\n",
      "\n",
      "Splitting data\n",
      "\n",
      "Building Data Generators\n",
      "Found 4099 validated image filenames belonging to 2 classes.\n",
      "Found 878 validated image filenames belonging to 2 classes.\n",
      "Found 879 validated image filenames belonging to 2 classes.\n",
      "\n",
      "Evaluating model\n",
      "28/28 [==============================] - 13s 471ms/step - loss: 0.1569 - accuracy: 0.9727\n",
      "Loss:  0.15694710612297058\n",
      "Accuracy:  97.26962447166443 %\n"
     ]
    }
   ],
   "source": [
    "cmpl_seg_checkp_name = input('Input path for complex model with segmented images checkpoint (XXXX.h5) (default github checkpoint path).\\n') or r'.\\Models\\model_complex_seg_224_rgb.h5'\n",
    "cmpl_seg_hist_name = input('Input path for complex model with segmented history (XXXX.csv) (default github history path).\\n') or r'.\\Models\\history_complex_seg_224_rgb.csv'\n",
    "\n",
    "train = False\n",
    "\n",
    "if 'smpl_checkp_name' in locals():\n",
    "    if os.path.exists(cmpl_seg_checkp_name):\n",
    "        train = True if (input('Complex model with segmented checkpoint found. Do you want to retrain model (Y/N, default N)?') or 'N') == 'Y' else False\n",
    "    else:\n",
    "        train = True\n",
    "else:\n",
    "    train = True    \n",
    "\n",
    "X = df['Filepath_seg']\n",
    "Y = df['Label_name']\n",
    "\n",
    "md_cmpl_seg_eval, history_cmpl_seg, cmpl_seg_model_class_rep, cmpl_seg_model_conf_mat, cmpl_seg_model = build_train_model(X, Y, model_cmpl, 2, 32, 30, cmpl_seg_checkp_name, cmpl_seg_hist_name, train)"
   ]
  },
  {
   "cell_type": "markdown",
   "id": "velvet-mobility",
   "metadata": {},
   "source": [
    "#### VI.1. Training history"
   ]
  },
  {
   "cell_type": "code",
   "execution_count": 16,
   "id": "hindu-daughter",
   "metadata": {},
   "outputs": [
    {
     "data": {
      "text/plain": [
       "''"
      ]
     },
     "execution_count": 16,
     "metadata": {},
     "output_type": "execute_result"
    },
    {
     "data": {
      "image/png": "[encoded data removed]",
      "text/plain": [
       "<Figure size 432x288 with 1 Axes>"
      ]
     },
     "metadata": {
      "needs_background": "light"
     },
     "output_type": "display_data"
    }
   ],
   "source": [
    "plt.plot(history_cmpl_seg.index + 1, history_cmpl_seg['accuracy'], color = 'royalblue', linestyle = '--', label = 'Train accuracy')\n",
    "plt.plot(history_cmpl_seg.index + 1, history_cmpl_seg['val_accuracy'], color = 'red', linestyle = '--', label = 'Val accuracy')\n",
    "plt.ylim([0, 1.0])\n",
    "plt.xticks([5, 10, 15, 20])\n",
    "plt.legend(loc = 'best')\n",
    "plt.title('Training vs val accuracy for complex model with segmented images', pad = 20)\n",
    ";"
   ]
  },
  {
   "cell_type": "markdown",
   "id": "expired-decline",
   "metadata": {},
   "source": [
    "#### VI.2. Classification report"
   ]
  },
  {
   "cell_type": "code",
   "execution_count": 17,
   "id": "terminal-costume",
   "metadata": {},
   "outputs": [
    {
     "data": {
      "text/html": [
       "<style  type=\"text/css\" >\n",
       "</style><table id=\"T_28663_\" style='display:inline; font-size:110%; color:black; font-weight: bold'><caption>Classification report for model .\\Models\\model_complex_seg_224_rgb</caption><thead>    <tr>        <th class=\"blank level0\" ></th>        <th class=\"col_heading level0 col0\" >NORMAL</th>        <th class=\"col_heading level0 col1\" >PNEUMONIA</th>        <th class=\"col_heading level0 col2\" >accuracy</th>        <th class=\"col_heading level0 col3\" >macro avg</th>        <th class=\"col_heading level0 col4\" >weighted avg</th>    </tr></thead><tbody>\n",
       "                <tr>\n",
       "                        <th id=\"T_28663_level0_row0\" class=\"row_heading level0 row0\" >precision</th>\n",
       "                        <td id=\"T_28663_row0_col0\" class=\"data row0 col0\" >0.934959</td>\n",
       "                        <td id=\"T_28663_row0_col1\" class=\"data row0 col1\" >0.987362</td>\n",
       "                        <td id=\"T_28663_row0_col2\" class=\"data row0 col2\" >0.972696</td>\n",
       "                        <td id=\"T_28663_row0_col3\" class=\"data row0 col3\" >0.961161</td>\n",
       "                        <td id=\"T_28663_row0_col4\" class=\"data row0 col4\" >0.973173</td>\n",
       "            </tr>\n",
       "            <tr>\n",
       "                        <th id=\"T_28663_level0_row1\" class=\"row_heading level0 row1\" >recall</th>\n",
       "                        <td id=\"T_28663_row1_col0\" class=\"data row1 col0\" >0.966387</td>\n",
       "                        <td id=\"T_28663_row1_col1\" class=\"data row1 col1\" >0.975039</td>\n",
       "                        <td id=\"T_28663_row1_col2\" class=\"data row1 col2\" >0.972696</td>\n",
       "                        <td id=\"T_28663_row1_col3\" class=\"data row1 col3\" >0.970713</td>\n",
       "                        <td id=\"T_28663_row1_col4\" class=\"data row1 col4\" >0.972696</td>\n",
       "            </tr>\n",
       "            <tr>\n",
       "                        <th id=\"T_28663_level0_row2\" class=\"row_heading level0 row2\" >f1-score</th>\n",
       "                        <td id=\"T_28663_row2_col0\" class=\"data row2 col0\" >0.950413</td>\n",
       "                        <td id=\"T_28663_row2_col1\" class=\"data row2 col1\" >0.981162</td>\n",
       "                        <td id=\"T_28663_row2_col2\" class=\"data row2 col2\" >0.972696</td>\n",
       "                        <td id=\"T_28663_row2_col3\" class=\"data row2 col3\" >0.965787</td>\n",
       "                        <td id=\"T_28663_row2_col4\" class=\"data row2 col4\" >0.972836</td>\n",
       "            </tr>\n",
       "            <tr>\n",
       "                        <th id=\"T_28663_level0_row3\" class=\"row_heading level0 row3\" >support</th>\n",
       "                        <td id=\"T_28663_row3_col0\" class=\"data row3 col0\" >238.000000</td>\n",
       "                        <td id=\"T_28663_row3_col1\" class=\"data row3 col1\" >641.000000</td>\n",
       "                        <td id=\"T_28663_row3_col2\" class=\"data row3 col2\" >0.972696</td>\n",
       "                        <td id=\"T_28663_row3_col3\" class=\"data row3 col3\" >879.000000</td>\n",
       "                        <td id=\"T_28663_row3_col4\" class=\"data row3 col4\" >879.000000</td>\n",
       "            </tr>\n",
       "    </tbody></table>"
      ],
      "text/plain": [
       "<pandas.io.formats.style.Styler at 0x1c0156c0910>"
      ]
     },
     "execution_count": 17,
     "metadata": {},
     "output_type": "execute_result"
    }
   ],
   "source": [
    "cmpl_seg_model_class_rep"
   ]
  },
  {
   "cell_type": "markdown",
   "id": "emerging-tobacco",
   "metadata": {},
   "source": [
    "#### VI.3. Confusion matrix"
   ]
  },
  {
   "cell_type": "code",
   "execution_count": 18,
   "id": "dental-tribute",
   "metadata": {
    "scrolled": true
   },
   "outputs": [
    {
     "data": {
      "text/html": [
       "<style  type=\"text/css\" >\n",
       "</style><table id=\"T_6f92b_\" style='display:inline; font-size:110%; color:black; font-weight: bold'><caption>Confusion matrix for model.\\Models\\model_complex_seg_224_rgb</caption><thead>    <tr>        <th class=\"index_name level0\" >Predicted</th>        <th class=\"col_heading level0 col0\" >NORMAL</th>        <th class=\"col_heading level0 col1\" >PNEUMONIA</th>    </tr>    <tr>        <th class=\"index_name level0\" >Real</th>        <th class=\"blank\" ></th>        <th class=\"blank\" ></th>    </tr></thead><tbody>\n",
       "                <tr>\n",
       "                        <th id=\"T_6f92b_level0_row0\" class=\"row_heading level0 row0\" >NORMAL</th>\n",
       "                        <td id=\"T_6f92b_row0_col0\" class=\"data row0 col0\" >230</td>\n",
       "                        <td id=\"T_6f92b_row0_col1\" class=\"data row0 col1\" >8</td>\n",
       "            </tr>\n",
       "            <tr>\n",
       "                        <th id=\"T_6f92b_level0_row1\" class=\"row_heading level0 row1\" >PNEUMONIA</th>\n",
       "                        <td id=\"T_6f92b_row1_col0\" class=\"data row1 col0\" >16</td>\n",
       "                        <td id=\"T_6f92b_row1_col1\" class=\"data row1 col1\" >625</td>\n",
       "            </tr>\n",
       "    </tbody></table>"
      ],
      "text/plain": [
       "<pandas.io.formats.style.Styler at 0x1c023a4c130>"
      ]
     },
     "execution_count": 18,
     "metadata": {},
     "output_type": "execute_result"
    }
   ],
   "source": [
    "cmpl_seg_model_conf_mat"
   ]
  },
  {
   "cell_type": "code",
   "execution_count": null,
   "id": "cheap-solomon",
   "metadata": {},
   "outputs": [],
   "source": []
  }
 ],
 "metadata": {
  "kernelspec": {
   "display_name": "Python 3",
   "language": "python",
   "name": "python3"
  },
  "language_info": {
   "codemirror_mode": {
    "name": "ipython",
    "version": 3
   },
   "file_extension": ".py",
   "mimetype": "text/x-python",
   "name": "python",
   "nbconvert_exporter": "python",
   "pygments_lexer": "ipython3",
   "version": "3.8.8"
  }
 },
 "nbformat": 4,
 "nbformat_minor": 5
}
