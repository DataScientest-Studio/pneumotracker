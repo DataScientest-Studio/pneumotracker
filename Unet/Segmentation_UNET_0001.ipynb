{
 "cells": [
  {
   "cell_type": "markdown",
   "metadata": {},
   "source": [
    "Segmentation des radiographies de pneumonie pour extraction des poumons à partir du modèle UNET"
   ]
  },
  {
   "cell_type": "code",
   "execution_count": 3,
   "metadata": {},
   "outputs": [],
   "source": [
    "# Import des modules nécessaires\n",
    "import os\n",
    "import matplotlib.pyplot as plt\n",
    "from tqdm import tqdm\n",
    "from glob import glob\n",
    "import cv2\n",
    "from keras.models import load_model\n",
    "from keras import backend as keras"
   ]
  },
  {
   "cell_type": "code",
   "execution_count": null,
   "metadata": {},
   "outputs": [],
   "source": [
    "# Répertoire contenant le dossier \"chest-xray-pneumonia\"\n",
    "INPUT_DIR = os.path.join(\"..\", \"input\")\n",
    "# Arborescence contenant les dossiers train, test et val\n",
    "XRAY_DIR = os.path.join(INPUT_DIR, \"chest-xray-pneumonia/chest_xray\")\n",
    "# Dossier contenant le modèle Unet pré-entraîné sur les datasets Montgomery County and Shenzhen Hospital :\n",
    "# https://ceb.nlm.nih.gov/repositories/tuberculosis-chest-x-ray-image-data-sets/\n",
    "SEGMENTATION_DIR = os.path.join(INPUT_DIR, \"u-net-lung-segmentation-montgomery-shenzhen\")\n",
    "# Nom du fichier du mofèle pré-entrainé\n",
    "SEGMENTATION_MODEL = os.path.join(SEGMENTATION_DIR, \"unet_lung_seg.hdf5\")\n",
    "# Répertoire de sortie des images segmentées\n",
    "SEGMENTATION_RESULT = \"segmentation\"\n",
    "# Répertoires train, test et val ainsi que les sous-dossiers \"NORMAL\" et \"PNEUMONIA\" :\n",
    "# Laisser ainsi pour lire les images du dataset et sauvegarder les images segmentées\n",
    "# Créer l'arborescence \"segmentation/train/NORMAL\", \"segmentation/train/PNEUMONIA\", \"segmentation/test/NORMAL\"... au préalable\n",
    "# Ou utiliser la cellule ci-dessous pour créer l'arborescence\n",
    "TRAIN_DIR = \"train\"\n",
    "TEST_DIR = \"test\"\n",
    "VAL_DIR = \"val\"\n",
    "NORMAL_DIR = \"NORMAL\"\n",
    "PNEUMONIA_DIR = \"PNEUMONIA\""
   ]
  },
  {
   "cell_type": "code",
   "execution_count": 5,
   "metadata": {},
   "outputs": [
    {
     "name": "stdout",
     "output_type": "stream",
     "text": [
      "Help on function flatten in module tensorflow.python.keras.backend:\n",
      "\n",
      "flatten(x)\n",
      "    Flatten a tensor.\n",
      "    \n",
      "    Arguments:\n",
      "        x: A tensor or variable.\n",
      "    \n",
      "    Returns:\n",
      "        A tensor, reshaped into 1-D\n",
      "    \n",
      "    Example:\n",
      "    \n",
      "        >>> b = tf.constant([[1, 2], [3, 4]])\n",
      "        >>> b\n",
      "        <tf.Tensor: shape=(2, 2), dtype=int32, numpy=\n",
      "        array([[1, 2],\n",
      "               [3, 4]], dtype=int32)>\n",
      "        >>> tf.keras.backend.flatten(b)\n",
      "        <tf.Tensor: shape=(4,), dtype=int32,\n",
      "            numpy=array([1, 2, 3, 4], dtype=int32)>\n",
      "\n"
     ]
    }
   ],
   "source": [
    "help(keras.flatten)"
   ]
  },
  {
   "cell_type": "code",
   "execution_count": null,
   "metadata": {},
   "outputs": [],
   "source": [
    "# Création des répertoires segmentation\n",
    "for i in [TRAIN_DIR, TEST_DIR, VAL_DIR]:\n",
    "    dir_sup = SEGMENTATION_RESULT + '\\\\' + str(i) + '\\\\'\n",
    "    if not exists(dir_sup):\n",
    "        mkdir(dir_sup)\n",
    "    for j in [NORMAL_DIR, PNEUMONIA_DIR]:\n",
    "        dir_inf = dir_sup + '\\\\' + str(j) + '\\\\'\n",
    "        if not exists(dir_inf):\n",
    "            mkdir(dir_inf)"
   ]
  },
  {
   "cell_type": "code",
   "execution_count": null,
   "metadata": {},
   "outputs": [],
   "source": [
    "# Chargement du modèle\n",
    "\n",
    "def dice_coef(y_true, y_pred):\n",
    "    y_true_f = keras.flatten(y_true)\n",
    "    y_pred_f = keras.flatten(y_pred)\n",
    "    intersection = keras.sum(y_true_f * y_pred_f)\n",
    "    return (2. * intersection + 1) / (keras.sum(y_true_f) + keras.sum(y_pred_f) + 1)\n",
    "\n",
    "def dice_coef_loss(y_true, y_pred):\n",
    "    return -dice_coef(y_true, y_pred)\n",
    "\n",
    "segmentation_model = load_model(SEGMENTATION_MODEL, \\\n",
    "                                custom_objects={'dice_coef_loss': dice_coef_loss, \\\n",
    "                                                'dice_coef': dice_coef})\n",
    "\n",
    "segmentation_model.summary()"
   ]
  },
  {
   "cell_type": "code",
   "execution_count": null,
   "metadata": {},
   "outputs": [],
   "source": [
    "# Fonctions utilitaires pour l'entraînement et la génération de l'image segmentée\n",
    "\n",
    "def image_to_train(img):\n",
    "    npy = img / 255\n",
    "    npy = np.reshape(npy, npy.shape + (1,))\n",
    "    npy = np.reshape(npy,(1,) + npy.shape)\n",
    "    return npy\n",
    "\n",
    "def train_to_image(npy):\n",
    "    img = (npy[0,:, :, 0] * 255.).astype(np.uint8)\n",
    "    return img"
   ]
  },
  {
   "cell_type": "code",
   "execution_count": null,
   "metadata": {},
   "outputs": [],
   "source": [
    "# Fonction de segmentation de l'image et de sauvegarde de l'image segmentée\n",
    "\n",
    "def segment_image(pid, img, save_to):\n",
    "    img = cv2.resize(img, (512, 512))\n",
    "    segm_ret = segmentation_model.predict(image_to_train(img), \\\n",
    "                                          verbose=0)\n",
    "    img = cv2.bitwise_and(img, img, mask=train_to_image(segm_ret))    \n",
    "    cv2.imwrite(os.path.join(save_to, \"%s.png\" % pid), img)"
   ]
  },
  {
   "cell_type": "code",
   "execution_count": null,
   "metadata": {},
   "outputs": [],
   "source": [
    "# Génération des images segmentées (Attention, long et coûteux en ressources)\n",
    "\n",
    "for i in [TRAIN_DIR, TEST_DIR, VAL_DIR]:\n",
    "    for j in [NORMAL_DIR, PNEUMONIA_DIR]:\n",
    "        for filename in tqdm(glob(os.path.join(XRAY_DIR, i, j, \"*.jpeg\"))):\n",
    "            pid, fileext = os.path.splitext(os.path.basename(filename))\n",
    "            im = cv2.imread(filename, cv2.IMREAD_GRAYSCALE)\n",
    "            segment_image(pid, im, os.path.join(SEGMENTATION_RESULT, i, j))"
   ]
  }
 ],
 "metadata": {
  "kernelspec": {
   "display_name": "Python 3",
   "language": "python",
   "name": "python3"
  },
  "language_info": {
   "codemirror_mode": {
    "name": "ipython",
    "version": 3
   },
   "file_extension": ".py",
   "mimetype": "text/x-python",
   "name": "python",
   "nbconvert_exporter": "python",
   "pygments_lexer": "ipython3",
   "version": "3.8.8"
  }
 },
 "nbformat": 4,
 "nbformat_minor": 4
}
